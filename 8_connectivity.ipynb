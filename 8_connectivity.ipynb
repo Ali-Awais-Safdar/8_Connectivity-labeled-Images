{
 "cells": [
  {
   "cell_type": "markdown",
   "metadata": {},
   "source": [
    "8-Connectivity"
   ]
  },
  {
   "cell_type": "code",
   "execution_count": 24,
   "metadata": {},
   "outputs": [],
   "source": [
    "import numpy as np\n",
    "import cv2\n",
    "import random"
   ]
  },
  {
   "cell_type": "code",
   "execution_count": 92,
   "metadata": {},
   "outputs": [],
   "source": [
    "def connectivity_8(img_path):   # do somehing with masks to get no. of labels right and also the colors\n",
    "    img_gray = cv2.imread(img_path,0)\n",
    "    rows = img_gray.shape[0]\n",
    "    cols = img_gray.shape[1]\n",
    "    mask = np.zeros((rows,cols))\n",
    "    equiv_table = {}\n",
    "    iD = 1\n",
    "\n",
    "\n",
    "    def get_parent(label):\n",
    "        while label in equiv_table and equiv_table[label] != label:\n",
    "            label = equiv_table[label]\n",
    "        return label\n",
    "    \n",
    "    def connect_labels(label1, label2):\n",
    "        root1 = get_parent(label1)\n",
    "        root2 = get_parent(label2)\n",
    "        if root1 != root2:\n",
    "            equiv_table[root1] = root2\n",
    "\n",
    "    #pass1\n",
    "    for i in range(rows):\n",
    "        for j in range(cols):\n",
    "            if img_gray[i][j] > 0:\n",
    "                neighbors = [(i-1,j),(i,j-1),(i-1,j-1),(i-1,j+1)]\n",
    "                checked_neighbors = []\n",
    "                for neighbor in neighbors:\n",
    "                    if mask[neighbor[0],neighbor[1]] > 0:\n",
    "                        checked_neighbors.append(int(mask[neighbor[0],neighbor[1]]))\n",
    "                if checked_neighbors == []:\n",
    "                    mask[i,j] = iD\n",
    "                    iD += 1\n",
    "                else:\n",
    "                    mask[i,j] = min(checked_neighbors)\n",
    "                    for neighbor in checked_neighbors:\n",
    "                        if neighbor != min(checked_neighbors):\n",
    "                            connect_labels(min(checked_neighbors), neighbor)\n",
    "\n",
    "    #pass2\n",
    "    for i in range(rows):\n",
    "        for j in range(cols):\n",
    "            if mask[i, j] > 0:\n",
    "                mask[i, j] = get_parent(mask[i, j])\n",
    "\n",
    "    #marking labels    \n",
    "    unique_labels = np.unique(mask)\n",
    "    img_rgb = np.zeros((rows, cols, 3), dtype=np.uint8)\n",
    "    for label in unique_labels:\n",
    "        if label == 0:\n",
    "            continue\n",
    "        color = (random.randint(0, 255), random.randint(0, 255), random.randint(0, 255))\n",
    "        img_rgb[mask == label] = color\n",
    "    \n",
    "    return img_rgb"
   ]
  },
  {
   "cell_type": "code",
   "execution_count": 93,
   "metadata": {},
   "outputs": [],
   "source": [
    "labeled_img = connectivity_8('img.bmp')\n",
    "cv2.imshow('labeled_img', labeled_img)\n",
    "cv2.waitKey(0)\n",
    "cv2.destroyAllWindows()"
   ]
  }
 ],
 "metadata": {
  "kernelspec": {
   "display_name": "Python 3",
   "language": "python",
   "name": "python3"
  },
  "language_info": {
   "codemirror_mode": {
    "name": "ipython",
    "version": 3
   },
   "file_extension": ".py",
   "mimetype": "text/x-python",
   "name": "python",
   "nbconvert_exporter": "python",
   "pygments_lexer": "ipython3",
   "version": "3.11.6"
  }
 },
 "nbformat": 4,
 "nbformat_minor": 2
}
